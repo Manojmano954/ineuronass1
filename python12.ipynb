{
  "nbformat": 4,
  "nbformat_minor": 0,
  "metadata": {
    "colab": {
      "provenance": []
    },
    "kernelspec": {
      "name": "python3",
      "display_name": "Python 3"
    },
    "language_info": {
      "name": "python"
    }
  },
  "cells": [
    {
      "cell_type": "markdown",
      "source": [
        "\n",
        "1. In what modes should the PdfFileReader() and PdfFileWriter() File objects will be opened?\n",
        "\n",
        "Ans: For PdfFileReader() file objects should be opened in rb -> read binary mode, Whereas for PdfFileWriter() file objects should be opened in wb -> write binary mode.\n",
        "2. From a PdfFileReader object, how do you get a Page object for page 5?\n",
        "\n",
        "Ans: PdfFileReader class provides a method called getPage(page_no) to get a page object.\n"
      ],
      "metadata": {
        "id": "9nXR20JrFKuA"
      }
    },
    {
      "cell_type": "code",
      "source": [
        "from PyPDF2 import PdfFileReader\n",
        "pdf_reader = PdfFileReader(file_path)\n",
        "for page in pdf_reader.getNumPages():\n",
        "    pdf_reader.getPage(page)"
      ],
      "metadata": {
        "id": "wFNECpl-FTFP"
      },
      "execution_count": null,
      "outputs": []
    },
    {
      "cell_type": "markdown",
      "source": [
        "\n",
        "3. What PdfFileReader variable stores the number of pages in the PDF document?\n",
        "\n",
        "Ans: getNumPages() method of PdfFileReader class stores the no pages in a PDF document\n"
      ],
      "metadata": {
        "id": "6F7kk3XqFcsx"
      }
    },
    {
      "cell_type": "code",
      "source": [
        "#Example Code:\n",
        "from PyPDF2 import PdfFileReader\n",
        "pdf_reader = PdfFileReader(file_path)\n",
        "print(pdf_reader.getNumPages()) # Prints the no of pages in a input document"
      ],
      "metadata": {
        "id": "Xw1FE4teFhzV"
      },
      "execution_count": null,
      "outputs": []
    },
    {
      "cell_type": "markdown",
      "source": [
        "\n",
        "4. If a PdfFileReader object’s PDF is encrypted with the password swordfish, what must you do before you can obtain Page objects from it?\n",
        "\n",
        "Ans: If a PdfFileReader object’s PDF is encrypted with the password swordfish and you're not aware of it. first read the Pdf using the PdfFileReader Class. PdfFileReader class provides a attribute called isEncrypted to check whether a pdf is encrypted or not. the method returns true if a pdf is encrypted and vice versa.\n",
        "if pdf is encrypted use the decrypt() method provided by PdfFileReader class first then try to read the contents/pages of the pdf, else PyPDF2 will raise the following error PyPDF2.utils.PdfReadError: file has not been decrypted\n"
      ],
      "metadata": {
        "id": "LlIpLmzEFzpn"
      }
    },
    {
      "cell_type": "markdown",
      "source": [
        "\n",
        "5. What methods do you use to rotate a page?\n",
        "\n",
        "Ans: PyPDF2 Package provides 2 methods to rotate a page:\n",
        "\n",
        "    rotateClockWise() -> For Clockwise rotation\n",
        "    rotateCounterClockWise() -> For Counter Clockwise rotation\n",
        "\n",
        "The PyPDF2 package only allows you to rotate a page in increments of 90 degrees. You will receive an AssertionError otherwise.\n",
        "6. What is the difference between a Run object and a Paragraph object?\n",
        "\n",
        "Ans: The structure of a document is represented by three different data types in python-Docx. At the highest level, a Document object represents the entire document. The Document object contains a list of Paragraph objects for the paragraphs in the document. (A new paragraph begins whenever the user presses ENTER or RETURN while typing in a Word document.) Each of these Paragraph objects contains a list of one or more Run objects.\n",
        "\n",
        "The text in a Word document is more than just a string. It has font, size, color, and other styling information associated with it. A style in Word is a collection of these attributes. A Run object is a contiguous run of text with the same style. A new Run object is needed whenever the text style changes.\n"
      ],
      "metadata": {
        "id": "W6xR5Vp0F6Sj"
      }
    },
    {
      "cell_type": "markdown",
      "source": [
        "\n",
        "7. How do you obtain a list of Paragraph objects for a Document object that’s stored in a variable named doc?"
      ],
      "metadata": {
        "id": "2urZnwkVGzNa"
      }
    },
    {
      "cell_type": "code",
      "source": [
        "# Example Program\n",
        "from docx import Document\n",
        "doc = Document(\"sample_file.docx\") # Path of the Docx file\n",
        "print(doc.paragraphs) # Prints the list of Paragraph objects for a Document\n",
        "for paragraph in doc.paragraphs:\n",
        "    print(paragraph.text) # Prints the text in the paragraph"
      ],
      "metadata": {
        "id": "fTRTHxR2F5B_"
      },
      "execution_count": null,
      "outputs": []
    },
    {
      "cell_type": "markdown",
      "source": [
        "\n",
        "8. What type of object has bold, underline, italic, strike, and outline variables?\n",
        "\n",
        "Ans: Run object has bold, underline, italic, strike, and outline variables. The text in a Word document is more than just a string. It has font, size, color, and other styling information associated with it.\n",
        "\n",
        "A style in Word is a collection of these attributes. A Run object is a contiguous run of text with the same style. A new Run object is needed whenever the text style changes.\n"
      ],
      "metadata": {
        "id": "oUFyeOXpHLdt"
      }
    },
    {
      "cell_type": "markdown",
      "source": [
        "9. What is the difference between False, True, and None for the bold variable?"
      ],
      "metadata": {
        "id": "hyLMezlDHNUk"
      }
    },
    {
      "cell_type": "code",
      "source": [
        "bold = True  # Style Set to Bold\n",
        "bold = False # Style Not Set to Bold\n",
        "bold = None # Style is Not Applicable"
      ],
      "metadata": {
        "id": "2-0Sd3g0HMkc"
      },
      "execution_count": null,
      "outputs": []
    },
    {
      "cell_type": "markdown",
      "source": [
        "\n",
        "10. How do you create a Document object for a new Word document?\n",
        "\n"
      ],
      "metadata": {
        "id": "z4MiN8HPHiwP"
      }
    },
    {
      "cell_type": "code",
      "source": [
        "# Example Program\n",
        "from docx import Document\n",
        "document = Document()\n",
        "document.add_paragraph(\"iNeuron Full Stack DataScience Course\")\n",
        "document.save('mydocument.docx')"
      ],
      "metadata": {
        "id": "sd7oUtqYHk-7"
      },
      "execution_count": null,
      "outputs": []
    },
    {
      "cell_type": "markdown",
      "source": [
        "11. How do you add a paragraph with the text 'Hello, there!' to a Document object stored in a variable named doc?"
      ],
      "metadata": {
        "id": "ylrF4RCCHsGP"
      }
    },
    {
      "cell_type": "code",
      "source": [
        "# Example Program\n",
        "from docx import Document\n",
        "doc = Document()\n",
        "doc.add_paragraph('Hello, there!')\n",
        "doc.save('hello.docx')"
      ],
      "metadata": {
        "id": "gDdaLS9aHycU"
      },
      "execution_count": null,
      "outputs": []
    },
    {
      "cell_type": "markdown",
      "source": [
        "\n",
        "12. What integers represent the levels of headings available in Word documents?\n",
        "\n",
        "Ans: The levels for a heading in a word document can be specified by using the level attribute inside the add_heading method. There are a total of 5 levels statring for 0 t0 4. where level 0 makes a headline with the horizontal line below the text, whereas the heading level 1 is the main heading. Similarly, the other headings are sub-heading with their's font-sizes in decreasing order.\n"
      ],
      "metadata": {
        "id": "_VFNYML3H8-H"
      }
    },
    {
      "cell_type": "code",
      "source": [],
      "metadata": {
        "id": "VGQrjJBoH9_f"
      },
      "execution_count": null,
      "outputs": []
    }
  ]
}