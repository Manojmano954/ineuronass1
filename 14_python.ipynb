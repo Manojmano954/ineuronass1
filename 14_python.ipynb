{
  "nbformat": 4,
  "nbformat_minor": 0,
  "metadata": {
    "colab": {
      "provenance": []
    },
    "kernelspec": {
      "name": "python3",
      "display_name": "Python 3"
    },
    "language_info": {
      "name": "python"
    }
  },
  "cells": [
    {
      "cell_type": "markdown",
      "source": [
        "\n",
        "1. What does RGBA stand for?\n",
        "\n",
        "Ans: RGBA is a four-channel format containing data for Red, Green, Blue, and an Alpha value. Where Alpha Represents the Opacity\n",
        "2. From the Pillow module, how do you get the RGBA value of any images?\n",
        "\n",
        "Ans: ImageColor.getcolor() gives rgba value of any image\n",
        "3. What is a box tuple, and how does it work?\n",
        "\n",
        "Ans: A box tuple is a tuple value of four integers: the left-edge x-coordinate, the top-edge y-coordinate,the width, and the height, respectively.\n"
      ],
      "metadata": {
        "id": "-Z2K-4P3N-oC"
      }
    },
    {
      "cell_type": "markdown",
      "source": [
        "\n",
        "4. Use your image and load in notebook then, How can you find out the width and height of an Image object?\n",
        "\n"
      ],
      "metadata": {
        "id": "nQEAUxhyOI23"
      }
    },
    {
      "cell_type": "code",
      "source": [
        "#Example Program\n",
        "from PIL import Image\n",
        "pic = Image.open('Pic.jpg')\n",
        "print(f'Width, Height -> {pic.size}') # Approach 1\n",
        "print(f'Width, Height -> {pic.width},{pic.height}') # Approach 2\n",
        "width,height = pic.size\n",
        "print(f'Width, Height -> {width},{height}') # Approach 3\n",
        "\n",
        "Width, Height -> (287, 70)"
      ],
      "metadata": {
        "id": "S_MAgvMHOgCm"
      },
      "execution_count": null,
      "outputs": []
    },
    {
      "cell_type": "markdown",
      "source": [
        "5. What method would you call to get Image object for a 100×100 image, excluding the lower-left quarter of it?"
      ],
      "metadata": {
        "id": "XNpWEySgOpeR"
      }
    },
    {
      "cell_type": "code",
      "source": [
        "from PIL import Image\n",
        "img = Image.open('Pic.jpg')\n",
        "new_img = img.crop((0,50,50,50))"
      ],
      "metadata": {
        "id": "q1RlnTXeO170"
      },
      "execution_count": null,
      "outputs": []
    },
    {
      "cell_type": "markdown",
      "source": [
        "\n",
        "6. After making changes to an Image object, how could you save it as an image file?\n",
        "\n"
      ],
      "metadata": {
        "id": "W4vOsZnOPEQR"
      }
    },
    {
      "cell_type": "code",
      "source": [
        "#Example Program\n",
        "from PIL import Image\n",
        "pic = Image.open('pic.jpg')\n",
        "pic.save('pic2.jpg')"
      ],
      "metadata": {
        "id": "L1o6n1duPMaJ"
      },
      "execution_count": null,
      "outputs": []
    },
    {
      "cell_type": "markdown",
      "source": [
        "\n",
        "7. What module contains Pillow’s shape-drawing code?\n",
        "\n",
        "Ans: Pillows ImageDraw module contains Shape drawing methods\n",
        "8. Image objects do not have drawing methods. What kind of object does? How do you get this kind of object?\n",
        "\n",
        "Ans: ImageDraw objects have shape-drawing methods such as point(), line(), or rectangle().They are returned by passing the Image object to the ImageDraw.Draw() function.\n"
      ],
      "metadata": {
        "id": "56KrGxTwPYwa"
      }
    },
    {
      "cell_type": "code",
      "source": [],
      "metadata": {
        "id": "pd5sGD00Pd6R"
      },
      "execution_count": null,
      "outputs": []
    }
  ]
}