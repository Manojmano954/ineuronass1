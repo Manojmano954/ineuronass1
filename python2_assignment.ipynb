{
  "nbformat": 4,
  "nbformat_minor": 0,
  "metadata": {
    "colab": {
      "provenance": []
    },
    "kernelspec": {
      "name": "python3",
      "display_name": "Python 3"
    },
    "language_info": {
      "name": "python"
    }
  },
  "cells": [
    {
      "cell_type": "markdown",
      "source": [
        "1.What are the two values of the Boolean data type? How do you write them?\n",
        "\n",
        "ans:True and False are two values of the boolen data types. We have to use capital T and F and with the rest of the word in lowercase"
      ],
      "metadata": {
        "id": "H0rJbjFw94D7"
      }
    },
    {
      "cell_type": "code",
      "source": [
        "x=True\n",
        "y=False\n",
        "print(x,type(x))\n",
        "print(y,type(y))"
      ],
      "metadata": {
        "colab": {
          "base_uri": "https://localhost:8080/"
        },
        "id": "l0k8fCyN-RZn",
        "outputId": "8d1e6f09-49cc-4322-a88f-7564357d0d4f"
      },
      "execution_count": 1,
      "outputs": [
        {
          "output_type": "stream",
          "name": "stdout",
          "text": [
            "True <class 'bool'>\n",
            "False <class 'bool'>\n"
          ]
        }
      ]
    },
    {
      "cell_type": "markdown",
      "source": [
        "2. What are the three different types of Boolean operators?\n",
        "\n",
        "       ans:and,or,not"
      ],
      "metadata": {
        "id": "eMxt9sb3-7d8"
      }
    },
    {
      "cell_type": "markdown",
      "source": [
        "3. Make a list of each Boolean operator&#39;s truth tables (i.e. every possible combination of Boolean\n",
        "values for the operator and what it evaluate ).\n",
        "\n",
        "ans: \n",
        "\n",
        "    Truth Table for and operaotor\n",
        "    True and True is True\n",
        "    True and False is False\n",
        "    False and True is False\n",
        "    False and False is False\n",
        "\n",
        "    Truth Table for or operaotor\n",
        "    True and True is True\n",
        "    True and False is True\n",
        "    False and True is True\n",
        "    False and False is False\n",
        "\n",
        "    Truth Table for not operaotor\n",
        "    True not is False False not is True\n"
      ],
      "metadata": {
        "id": "vjWo82HI_L-Q"
      }
    },
    {
      "cell_type": "markdown",
      "source": [
        "4. What are the values of the following expressions?\n",
        "(5 &gt; 4) and (3 == 5)\n",
        "not (5 &gt; 4)\n",
        "(5 &gt; 4) or (3 == 5)\n",
        "not ((5 &gt; 4) or (3 == 5))\n",
        "(True and True) and (True == False)\n",
        "(not False) or (not True)"
      ],
      "metadata": {
        "id": "Pp5HvmT3AKyB"
      }
    },
    {
      "cell_type": "code",
      "source": [
        "print((5>4)and(3==5)) # False\n",
        "print(not(5>4)) # False\n",
        "print((5>4)or(3==5)) # True\n",
        "print(not((5>4)or(3==5))) # False\n",
        "print((True and True)and(True==False)) # False\n",
        "print((not False)or(not True)) # True"
      ],
      "metadata": {
        "colab": {
          "base_uri": "https://localhost:8080/"
        },
        "id": "GRM4fGPe__BJ",
        "outputId": "1ce9a5d5-ae3d-4e6e-c801-b4561a541d61"
      },
      "execution_count": 2,
      "outputs": [
        {
          "output_type": "stream",
          "name": "stdout",
          "text": [
            "False\n",
            "False\n",
            "True\n",
            "False\n",
            "False\n",
            "True\n"
          ]
        }
      ]
    },
    {
      "cell_type": "markdown",
      "source": [
        "5. What are the six comparison operators?\n",
        "\n",
        "    ans: The Six comparision operators available in python are:\n",
        "== , != , < , > , <= , =>"
      ],
      "metadata": {
        "id": "gHO9NAhhAc4K"
      }
    },
    {
      "cell_type": "markdown",
      "source": [
        "6. How do you tell the difference between the equal to and assignment operators?Describe a\n",
        "condition and when you would use one.\n",
        "\n",
        "\n",
        "    ans:== is the equal to operator that compares two values and evaluates to a Boolean, while = is that assignment operator that stores a value in a variable."
      ],
      "metadata": {
        "id": "c9p4KDJVBCDx"
      }
    },
    {
      "cell_type": "markdown",
      "source": [
        "7. Identify the three blocks in this code:\n",
        "\n",
        "spam = 0\n",
        "if spam == 10:\n",
        "print(&#39;eggs&#39;)\n",
        "if spam &gt; 5:\n",
        "print(&#39;bacon&#39;)\n",
        "else:\n",
        "print(&#39;ham&#39;)\n",
        "print(&#39;spam&#39;)\n",
        "print(&#39;spam&#39;)"
      ],
      "metadata": {
        "id": "-O7CwpfiBroe"
      }
    },
    {
      "cell_type": "markdown",
      "source": [
        "ans:In Python, code block refers to a collection of code that is in the same block or indent. This is most commonly found in classes, functions, and loops."
      ],
      "metadata": {
        "id": "e2stRt4tExI6"
      }
    },
    {
      "cell_type": "code",
      "source": [
        "spam = 0  \n",
        "if spam == 10:  \n",
        "    print('eggs')  # block #1\n",
        "if spam > 5:  \n",
        "    print('bacon')  # block #2\n",
        "else:  \n",
        "    print('ham')  # block #3\n",
        "print('spam')  \n",
        "print('spam')"
      ],
      "metadata": {
        "colab": {
          "base_uri": "https://localhost:8080/"
        },
        "id": "mosIo5nuAbDq",
        "outputId": "a9279ab7-d9c1-4b0c-ff99-b5a702a5a7d9"
      },
      "execution_count": 3,
      "outputs": [
        {
          "output_type": "stream",
          "name": "stdout",
          "text": [
            "ham\n",
            "spam\n",
            "spam\n"
          ]
        }
      ]
    },
    {
      "cell_type": "markdown",
      "source": [
        "8. Write code that prints Hello if 1 is stored in spam, prints Howdy if 2 is stored in spam, and prints\n",
        "Greetings! if anything else is stored in spam."
      ],
      "metadata": {
        "id": "tVJanCojE9tb"
      }
    },
    {
      "cell_type": "code",
      "source": [
        "spam=0\n",
        "if spam==1:\n",
        "  print(\"Hello\")\n",
        "elif spam==2:\n",
        "  print(\"Howdy\")\n",
        "else:\n",
        "  print(\"Greetings!\")   "
      ],
      "metadata": {
        "colab": {
          "base_uri": "https://localhost:8080/"
        },
        "id": "6Am5oVuhE8BE",
        "outputId": "16fa3396-13ee-4248-c742-76ae41a961d1"
      },
      "execution_count": 4,
      "outputs": [
        {
          "output_type": "stream",
          "name": "stdout",
          "text": [
            "Greetings!\n"
          ]
        }
      ]
    },
    {
      "cell_type": "markdown",
      "source": [
        "9.If your programme is stuck in an endless loop, what keys you’ll press?\n",
        "\n",
        "\n",
        "     ans: Press Ctrl-c to stop a program stuck in an infinite loop"
      ],
      "metadata": {
        "id": "8sqpTa7IF8Yf"
      }
    },
    {
      "cell_type": "markdown",
      "source": [
        "10. How can you tell the difference between break and continue?\n",
        "\n",
        "\n",
        "    ans: The break statement will move the execution outside the loop if break condtion is satisfied. Whereas the continue statement will move the execution to the start of the loop."
      ],
      "metadata": {
        "id": "FW8hAG0PGZLD"
      }
    },
    {
      "cell_type": "markdown",
      "source": [
        "11.in a for loop, what is the difference between range(10), range(0, 10), and range(0, 10, 1)?\n",
        "\n",
        "\n",
        "      ans:\n",
        "   1.The range(10) call range from 0 to 9 (but not include 10)\n",
        "\n",
        "\n",
        "   2.The range (0,10) explicitly tells the loop to start at 0\n",
        "\n",
        "   \n",
        "   3.The range(0,10,1) explicitly tells the loop to increase the variable by 1 on each iteration\n"
      ],
      "metadata": {
        "id": "AEiAQOGYGzbs"
      }
    },
    {
      "cell_type": "markdown",
      "source": [
        "12. Write a short program that prints the numbers 1 to 10 using a for loop. Then write an equivalent\n",
        "program that prints the numbers 1 to 10 using a while loop.\n",
        "\n",
        "\n",
        "      ans: "
      ],
      "metadata": {
        "id": "9K6x3YnaHpmR"
      }
    },
    {
      "cell_type": "code",
      "source": [
        "print('-'*10,'Using For Loop','-'*10)\n",
        "for i in range(1,11):\n",
        "    print(i, end=\" \")\n",
        "print('\\n')\n",
        "print('-'*10,'Using While Loop','-'*10) \n",
        "i=1\n",
        "while i<=10:\n",
        "    print(i, end=\" \")\n",
        "    i+=1\n",
        "    "
      ],
      "metadata": {
        "colab": {
          "base_uri": "https://localhost:8080/"
        },
        "id": "7XgBENAFF3-n",
        "outputId": "1c22744b-d973-493b-a990-44ae7fef6b05"
      },
      "execution_count": 5,
      "outputs": [
        {
          "output_type": "stream",
          "name": "stdout",
          "text": [
            "---------- Using For Loop ----------\n",
            "1 2 3 4 5 6 7 8 9 10 \n",
            "\n",
            "---------- Using While Loop ----------\n",
            "1 2 3 4 5 6 7 8 9 10 "
          ]
        }
      ]
    },
    {
      "cell_type": "markdown",
      "source": [
        "13. If you had a function named bacon() inside a module named spam, how would you call it after\n",
        "importing spam?\n",
        "\n",
        "    Ans: This function can be called with spam.bacon()"
      ],
      "metadata": {
        "id": "KM6ClGTgJupH"
      }
    },
    {
      "cell_type": "code",
      "source": [],
      "metadata": {
        "id": "9TrXbri3IR67"
      },
      "execution_count": null,
      "outputs": []
    }
  ]
}