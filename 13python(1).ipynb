{
  "nbformat": 4,
  "nbformat_minor": 0,
  "metadata": {
    "colab": {
      "provenance": []
    },
    "kernelspec": {
      "name": "python3",
      "display_name": "Python 3"
    },
    "language_info": {
      "name": "python"
    }
  },
  "cells": [
    {
      "cell_type": "markdown",
      "source": [
        "\n",
        "1. What advantages do Excel spreadsheets have over CSV spreadsheets?\n",
        "\n",
        "Ans: The Advantages of Excel over CSV are:\n",
        "  \n",
        "   Excel (XLS and XLSX) file formats are better for storing and analysing complex data.\n",
        "\n",
        "   An Excel not only stores data but can also do operations on the data using macros, formulas etc\n",
        "   \n",
        "   CSV files are plain-text files, Does not contain formatting, formulas, macros, etc. It is also known as flat files\n",
        "\n"
      ],
      "metadata": {
        "id": "vt37jNtRKuHp"
      }
    },
    {
      "cell_type": "markdown",
      "source": [
        "2.What do you pass to csv.reader() and csv.writer() to create reader and writer objects?"
      ],
      "metadata": {
        "id": "ZkBjgIhILAz-"
      }
    },
    {
      "cell_type": "code",
      "source": [
        "import csv\n",
        "with open('text.csv','r') as file:\n",
        "    csv_file = csv.reader(file,delimiter=',')\n",
        "    for ele in csv_file:\n",
        "        print(ele)"
      ],
      "metadata": {
        "id": "gqQdCH3PLI4L"
      },
      "execution_count": null,
      "outputs": []
    },
    {
      "cell_type": "markdown",
      "source": [
        "\n",
        "3. What modes do File objects for reader and writer objects need to be opened in?\n",
        "\n",
        "Ans: For csv.reader(iterable_file_object), the file objects needed to be opened in read mode mode='r' Whereas for csv.writer(iterable_file_object) the file objects needed to be opened in write mode mode='w'\n",
        "4. What method takes a list argument and writes it to a CSV file?\n",
        "\n",
        "Ans: csv.writer class provides two methods for writing to CSV. They are writerow() and writerows(). writerow() method writes a single row at a time. Whereas writerows() method is used to write multiple rows at a time.\n",
        "\n"
      ],
      "metadata": {
        "id": "0hbioa5dLbWz"
      }
    },
    {
      "cell_type": "code",
      "source": [
        "# Example Program\n",
        "import csv      \n",
        "fields = ['Name', 'Branch', 'Year', 'CGPA'] #column names \n",
        "rows = [ \n",
        "            ['Nikhil', 'COE', '2', '9.0'],  # data rows of csv file \n",
        "            ['Sanchit', 'COE', '2', '9.1'], \n",
        "            ['Ravi', 'IT', '2', '9.3']\n",
        "       ] \n",
        "with open(\"university_records.csv\", 'w') as csvfile: \n",
        "    csvwriter = csv.writer(csvfile) # creating a csv writer object \n",
        "    csvwriter.writerow(fields) # writing the fields \n",
        "    csvwriter.writerows(rows) # writing the data rows"
      ],
      "metadata": {
        "id": "B8JyFIfxLhYi"
      },
      "execution_count": 2,
      "outputs": []
    },
    {
      "cell_type": "markdown",
      "source": [
        "\n",
        "5. What do the keyword arguments delimiter and line terminator do?\n",
        "\n",
        "Ans: Lets take the example of a csv file:\n",
        "First Name, Last Name, Age\n",
        "Mano, Vishnu, 24\n",
        "Vishnu, Vardhan, 21\n",
        "Here ',' is Delimiter. We can use any Character as per our needs if required. Similarly Line Terminator comes at end of line by default it is newline and can be changed accourding to Requirement.\n"
      ],
      "metadata": {
        "id": "OiU0Y686MDEm"
      }
    },
    {
      "cell_type": "markdown",
      "source": [
        "\n",
        "6. What function takes a string of JSON data and returns a Python data structure?\n",
        "\n",
        "Ans: loads() method takes a string of JSON data and returns a Python data structure\n"
      ],
      "metadata": {
        "id": "7Fa17oYFMNzy"
      }
    },
    {
      "cell_type": "code",
      "source": [
        "# Example of json.loads() method\n",
        "import json\n",
        "my_details_json ='''{\n",
        "    \"Name\": \"Mano Vishnu\",\n",
        "    \"Qualification\": \"Bachelor of Technology\",\n",
        "    \"Stream\": \"Computer Science and Engineering\"\n",
        "}'''\n",
        "print(my_details_json)\n",
        "print(f'Type of my_details_json is {type(my_details_json)}')\n",
        "my_details = json.loads(my_details_json)\n",
        "print(my_details)\n",
        "print(f'Type of my_details is {type(my_details)}')"
      ],
      "metadata": {
        "colab": {
          "base_uri": "https://localhost:8080/"
        },
        "id": "go2OciGWL-Vq",
        "outputId": "a156acd8-b6d0-46cb-8a50-4e2ff392b8ff"
      },
      "execution_count": 3,
      "outputs": [
        {
          "output_type": "stream",
          "name": "stdout",
          "text": [
            "{\n",
            "    \"Name\": \"Mano Vishnu\",\n",
            "    \"Qualification\": \"Bachelor of Technology\",\n",
            "    \"Stream\": \"Computer Science and Engineering\"\n",
            "}\n",
            "Type of my_details_json is <class 'str'>\n",
            "{'Name': 'Mano Vishnu', 'Qualification': 'Bachelor of Technology', 'Stream': 'Computer Science and Engineering'}\n",
            "Type of my_details is <class 'dict'>\n"
          ]
        }
      ]
    },
    {
      "cell_type": "markdown",
      "source": [
        "\n",
        "7. What function takes a Python data structure and returns a string of JSON data?\n",
        "\n",
        "Ans: dumps() method takes a python data structure and returns a string of JSON data\n",
        "\n"
      ],
      "metadata": {
        "id": "DoEjuKuUNTjq"
      }
    },
    {
      "cell_type": "code",
      "source": [
        "# Example of json.dumps() method\n",
        "import json\n",
        "my_details = {\n",
        "    'Name':'Mano Vishnu',\n",
        "    'Stream':'Computer Science and Engineering',\n",
        "    'Qualification':'Bachelor of Technology'\n",
        "}\n",
        "print(my_details)\n",
        "print(f'Type of my_details is {type(my_details)}')\n",
        "my_details_json = json.dumps(my_details, indent=4, sort_keys=True)\n",
        "print(my_details_json)\n",
        "print(f'Type of my_details_json is {type(my_details_json)}')"
      ],
      "metadata": {
        "colab": {
          "base_uri": "https://localhost:8080/"
        },
        "id": "KSoK02zMNW3M",
        "outputId": "4ed7ce76-8df7-4232-de6b-0ffd167c652e"
      },
      "execution_count": 4,
      "outputs": [
        {
          "output_type": "stream",
          "name": "stdout",
          "text": [
            "{'Name': 'Mano Vishnu', 'Stream': 'Computer Science and Engineering', 'Qualification': 'Bachelor of Technology'}\n",
            "Type of my_details is <class 'dict'>\n",
            "{\n",
            "    \"Name\": \"Mano Vishnu\",\n",
            "    \"Qualification\": \"Bachelor of Technology\",\n",
            "    \"Stream\": \"Computer Science and Engineering\"\n",
            "}\n",
            "Type of my_details_json is <class 'str'>\n"
          ]
        }
      ]
    },
    {
      "cell_type": "code",
      "source": [],
      "metadata": {
        "id": "2PLXJ7q-Ndk3"
      },
      "execution_count": null,
      "outputs": []
    }
  ]
}